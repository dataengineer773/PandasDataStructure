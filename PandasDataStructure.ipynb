{
 "cells": [
  {
   "cell_type": "code",
   "execution_count": 1,
   "id": "0ce10e30-f0db-42fa-8a31-a04729352bec",
   "metadata": {},
   "outputs": [],
   "source": [
    "import numpy as np"
   ]
  },
  {
   "cell_type": "code",
   "execution_count": 2,
   "id": "3e10b706-141b-4288-835b-500aae46dc91",
   "metadata": {},
   "outputs": [
    {
     "data": {
      "text/plain": [
       "array([('2018-10-13 11:10:23.560;262km NW of Ozernovskiy',),\n",
       "       ('2018-10-13 04:34:15.580;25km E of Bitung',),\n",
       "       ('2018-10-13 00:13:46.220;42km WNW of Sola',),\n",
       "       ('2018-10-12 21:09:49.240;13km E of Nueva Concepcion',),\n",
       "       ('2018-10-12 02:52:03.620;128km SE of Kimbe',)],\n",
       "      dtype=[('timeplacemagTypemagalerttsunami', '<U50')])"
      ]
     },
     "execution_count": 2,
     "metadata": {},
     "output_type": "execute_result"
    }
   ],
   "source": [
    "data = np.genfromtxt('example_data.csv', delimiter=',', names=True, dtype=None, encoding='UTF',usecols=np.arange(0,1))\n",
    "data"
   ]
  },
  {
   "cell_type": "code",
   "execution_count": 3,
   "id": "f52379c5-5a12-4bda-be3a-617a7bf47759",
   "metadata": {},
   "outputs": [
    {
     "data": {
      "text/plain": [
       "(5,)"
      ]
     },
     "execution_count": 3,
     "metadata": {},
     "output_type": "execute_result"
    }
   ],
   "source": [
    "data.shape"
   ]
  },
  {
   "cell_type": "code",
   "execution_count": 4,
   "id": "c890e59c-8c36-4acd-8507-5775c606e673",
   "metadata": {},
   "outputs": [
    {
     "data": {
      "text/plain": [
       "dtype([('timeplacemagTypemagalerttsunami', '<U50')])"
      ]
     },
     "execution_count": 4,
     "metadata": {},
     "output_type": "execute_result"
    }
   ],
   "source": [
    "data.dtype"
   ]
  },
  {
   "cell_type": "code",
   "execution_count": 5,
   "id": "40bee3bb-504b-4dd4-a2b8-844331ef3548",
   "metadata": {},
   "outputs": [
    {
     "name": "stdout",
     "output_type": "stream",
     "text": [
      "3.13 µs ± 21.4 ns per loop (mean ± std. dev. of 7 runs, 100000 loops each)\n"
     ]
    }
   ],
   "source": [
    "%%timeit\n",
    "max([row[0] for row in data])"
   ]
  },
  {
   "cell_type": "code",
   "execution_count": 6,
   "id": "fe16dfca-4b31-4d6d-baae-1cfb8f58f113",
   "metadata": {},
   "outputs": [
    {
     "data": {
      "text/plain": [
       "{'timeplacemagTypemagalerttsunami': array(['2018-10-13 11:10:23.560;262km NW of Ozernovskiy',\n",
       "        '2018-10-13 04:34:15.580;25km E of Bitung',\n",
       "        '2018-10-13 00:13:46.220;42km WNW of Sola',\n",
       "        '2018-10-12 21:09:49.240;13km E of Nueva Concepcion',\n",
       "        '2018-10-12 02:52:03.620;128km SE of Kimbe'], dtype='<U50')}"
      ]
     },
     "execution_count": 6,
     "metadata": {},
     "output_type": "execute_result"
    }
   ],
   "source": [
    "array_dict = {}\n",
    "for i, col in enumerate(data.dtype.names):\n",
    "    array_dict[col] = np.array([row[i] for row in data])\n",
    "\n",
    "array_dict"
   ]
  },
  {
   "cell_type": "code",
   "execution_count": 7,
   "id": "48794757-d5c2-4fc7-9fd4-92d967235a30",
   "metadata": {},
   "outputs": [
    {
     "name": "stdout",
     "output_type": "stream",
     "text": [
      "dict_keys(['timeplacemagTypemagalerttsunami'])\n"
     ]
    }
   ],
   "source": [
    "print(array_dict.keys())"
   ]
  },
  {
   "cell_type": "code",
   "execution_count": 8,
   "id": "2d452b67-97e7-4f88-8e7f-7a3da61a9a6b",
   "metadata": {},
   "outputs": [],
   "source": [
    "import pandas as pd"
   ]
  },
  {
   "cell_type": "code",
   "execution_count": 9,
   "id": "24fdcc57-44b9-40a2-aae3-016d9adaca5e",
   "metadata": {},
   "outputs": [
    {
     "data": {
      "text/plain": [
       "0      2018-10-13 11:10:23.560;262km NW of Ozernovskiy\n",
       "1             2018-10-13 04:34:15.580;25km E of Bitung\n",
       "2             2018-10-13 00:13:46.220;42km WNW of Sola\n",
       "3    2018-10-12 21:09:49.240;13km E of Nueva Concep...\n",
       "4            2018-10-12 02:52:03.620;128km SE of Kimbe\n",
       "Name: timeplacemagTypemagalerttsunami, dtype: object"
      ]
     },
     "execution_count": 9,
     "metadata": {},
     "output_type": "execute_result"
    }
   ],
   "source": [
    "timeplacemagTypemagalerttsunami = pd.Series(array_dict['timeplacemagTypemagalerttsunami'], name='timeplacemagTypemagalerttsunami')\n",
    "timeplacemagTypemagalerttsunami"
   ]
  },
  {
   "cell_type": "code",
   "execution_count": 10,
   "id": "ce553ee8-2a0d-4be9-8b2c-2d8028fd06aa",
   "metadata": {},
   "outputs": [
    {
     "data": {
      "text/plain": [
       "(5,)"
      ]
     },
     "execution_count": 10,
     "metadata": {},
     "output_type": "execute_result"
    }
   ],
   "source": [
    "timeplacemagTypemagalerttsunami.shape"
   ]
  },
  {
   "cell_type": "code",
   "execution_count": 11,
   "id": "cbb5f7d3-0f54-42b5-b945-1d1be4f53038",
   "metadata": {},
   "outputs": [
    {
     "data": {
      "text/plain": [
       "dtype('O')"
      ]
     },
     "execution_count": 11,
     "metadata": {},
     "output_type": "execute_result"
    }
   ],
   "source": [
    "timeplacemagTypemagalerttsunami.dtype"
   ]
  },
  {
   "cell_type": "code",
   "execution_count": 12,
   "id": "8b0c95b7-df55-400b-af6c-358423874f5b",
   "metadata": {},
   "outputs": [
    {
     "data": {
      "text/plain": [
       "'timeplacemagTypemagalerttsunami'"
      ]
     },
     "execution_count": 12,
     "metadata": {},
     "output_type": "execute_result"
    }
   ],
   "source": [
    "timeplacemagTypemagalerttsunami.name"
   ]
  },
  {
   "cell_type": "code",
   "execution_count": 13,
   "id": "74211168-bc4a-4820-a06e-3fdf30c332df",
   "metadata": {},
   "outputs": [
    {
     "data": {
      "text/plain": [
       "array(['2018-10-13 11:10:23.560;262km NW of Ozernovskiy',\n",
       "       '2018-10-13 04:34:15.580;25km E of Bitung',\n",
       "       '2018-10-13 00:13:46.220;42km WNW of Sola',\n",
       "       '2018-10-12 21:09:49.240;13km E of Nueva Concepcion',\n",
       "       '2018-10-12 02:52:03.620;128km SE of Kimbe'], dtype=object)"
      ]
     },
     "execution_count": 13,
     "metadata": {},
     "output_type": "execute_result"
    }
   ],
   "source": [
    "timeplacemagTypemagalerttsunami.values"
   ]
  },
  {
   "cell_type": "code",
   "execution_count": 14,
   "id": "136a8407-e46f-4e78-a9a3-48660d2ae6ce",
   "metadata": {},
   "outputs": [
    {
     "data": {
      "text/plain": [
       "RangeIndex(start=0, stop=5, step=1)"
      ]
     },
     "execution_count": 14,
     "metadata": {},
     "output_type": "execute_result"
    }
   ],
   "source": [
    "timeplacemagTypemagalerttsunami_index = timeplacemagTypemagalerttsunami.index\n",
    "timeplacemagTypemagalerttsunami_index"
   ]
  },
  {
   "cell_type": "code",
   "execution_count": 15,
   "id": "5545ce59-4413-492a-82c6-192ba94006e3",
   "metadata": {},
   "outputs": [
    {
     "data": {
      "text/plain": [
       "array([0, 1, 2, 3, 4])"
      ]
     },
     "execution_count": 15,
     "metadata": {},
     "output_type": "execute_result"
    }
   ],
   "source": [
    "timeplacemagTypemagalerttsunami_index.values"
   ]
  },
  {
   "cell_type": "code",
   "execution_count": 16,
   "id": "77f5c169-edc1-4c9c-bd98-d01138adda8c",
   "metadata": {},
   "outputs": [
    {
     "data": {
      "text/plain": [
       "dtype('int64')"
      ]
     },
     "execution_count": 16,
     "metadata": {},
     "output_type": "execute_result"
    }
   ],
   "source": [
    "timeplacemagTypemagalerttsunami_index.dtype"
   ]
  },
  {
   "cell_type": "code",
   "execution_count": 17,
   "id": "e8802b7d-d58d-46f9-b96c-5a129def7b82",
   "metadata": {},
   "outputs": [
    {
     "data": {
      "text/plain": [
       "(5,)"
      ]
     },
     "execution_count": 17,
     "metadata": {},
     "output_type": "execute_result"
    }
   ],
   "source": [
    "timeplacemagTypemagalerttsunami_index.shape"
   ]
  },
  {
   "cell_type": "code",
   "execution_count": 18,
   "id": "b3815b71-6ebd-4868-96b2-da734df7850c",
   "metadata": {},
   "outputs": [
    {
     "data": {
      "text/plain": [
       "True"
      ]
     },
     "execution_count": 18,
     "metadata": {},
     "output_type": "execute_result"
    }
   ],
   "source": [
    "timeplacemagTypemagalerttsunami_index.is_unique"
   ]
  },
  {
   "cell_type": "code",
   "execution_count": 19,
   "id": "62644b21-5359-4ea6-aad8-ebbefd0c63fe",
   "metadata": {},
   "outputs": [
    {
     "data": {
      "text/plain": [
       "array([0, 1, 2])"
      ]
     },
     "execution_count": 19,
     "metadata": {},
     "output_type": "execute_result"
    }
   ],
   "source": [
    "np.array([1, 1, 1]) + np.array([-1, 0, 1])"
   ]
  },
  {
   "cell_type": "code",
   "execution_count": 20,
   "id": "41fe6e91-66a4-4631-ae83-3889203ba4b8",
   "metadata": {},
   "outputs": [
    {
     "data": {
      "text/plain": [
       "0     NaN\n",
       "1     2.5\n",
       "2     7.5\n",
       "3    12.5\n",
       "4    17.5\n",
       "5     NaN\n",
       "dtype: float64"
      ]
     },
     "execution_count": 20,
     "metadata": {},
     "output_type": "execute_result"
    }
   ],
   "source": [
    "pd.Series(np.linspace(0, 10, num=5)) + pd.Series(np.linspace(0, 10, num=5), index=pd.Index([1, 2, 3, 4, 5]))"
   ]
  },
  {
   "cell_type": "code",
   "execution_count": 21,
   "id": "42d3b9c8-4d7e-42ef-8216-9ff421b32c3c",
   "metadata": {},
   "outputs": [
    {
     "data": {
      "text/html": [
       "<div>\n",
       "<style scoped>\n",
       "    .dataframe tbody tr th:only-of-type {\n",
       "        vertical-align: middle;\n",
       "    }\n",
       "\n",
       "    .dataframe tbody tr th {\n",
       "        vertical-align: top;\n",
       "    }\n",
       "\n",
       "    .dataframe thead th {\n",
       "        text-align: right;\n",
       "    }\n",
       "</style>\n",
       "<table border=\"1\" class=\"dataframe\">\n",
       "  <thead>\n",
       "    <tr style=\"text-align: right;\">\n",
       "      <th></th>\n",
       "      <th>timeplacemagTypemagalerttsunami</th>\n",
       "    </tr>\n",
       "  </thead>\n",
       "  <tbody>\n",
       "    <tr>\n",
       "      <th>0</th>\n",
       "      <td>2018-10-13 11:10:23.560;262km NW of Ozernovskiy</td>\n",
       "    </tr>\n",
       "    <tr>\n",
       "      <th>1</th>\n",
       "      <td>2018-10-13 04:34:15.580;25km E of Bitung</td>\n",
       "    </tr>\n",
       "    <tr>\n",
       "      <th>2</th>\n",
       "      <td>2018-10-13 00:13:46.220;42km WNW of Sola</td>\n",
       "    </tr>\n",
       "    <tr>\n",
       "      <th>3</th>\n",
       "      <td>2018-10-12 21:09:49.240;13km E of Nueva Concep...</td>\n",
       "    </tr>\n",
       "    <tr>\n",
       "      <th>4</th>\n",
       "      <td>2018-10-12 02:52:03.620;128km SE of Kimbe</td>\n",
       "    </tr>\n",
       "  </tbody>\n",
       "</table>\n",
       "</div>"
      ],
      "text/plain": [
       "                     timeplacemagTypemagalerttsunami\n",
       "0    2018-10-13 11:10:23.560;262km NW of Ozernovskiy\n",
       "1           2018-10-13 04:34:15.580;25km E of Bitung\n",
       "2           2018-10-13 00:13:46.220;42km WNW of Sola\n",
       "3  2018-10-12 21:09:49.240;13km E of Nueva Concep...\n",
       "4          2018-10-12 02:52:03.620;128km SE of Kimbe"
      ]
     },
     "execution_count": 21,
     "metadata": {},
     "output_type": "execute_result"
    }
   ],
   "source": [
    "df = pd.DataFrame(array_dict) \n",
    "\n",
    "# this will also work with the first representation\n",
    "# df = pd.DataFrame(data)\n",
    "\n",
    "df"
   ]
  },
  {
   "cell_type": "code",
   "execution_count": 22,
   "id": "723be832-125c-4544-a2f9-c4a194cda0db",
   "metadata": {},
   "outputs": [
    {
     "data": {
      "text/plain": [
       "timeplacemagTypemagalerttsunami    object\n",
       "dtype: object"
      ]
     },
     "execution_count": 22,
     "metadata": {},
     "output_type": "execute_result"
    }
   ],
   "source": [
    "df.dtypes"
   ]
  },
  {
   "cell_type": "code",
   "execution_count": 23,
   "id": "e9d485af-3192-4cc6-bd30-3d124969e80b",
   "metadata": {},
   "outputs": [
    {
     "data": {
      "text/plain": [
       "array([['2018-10-13 11:10:23.560;262km NW of Ozernovskiy'],\n",
       "       ['2018-10-13 04:34:15.580;25km E of Bitung'],\n",
       "       ['2018-10-13 00:13:46.220;42km WNW of Sola'],\n",
       "       ['2018-10-12 21:09:49.240;13km E of Nueva Concepcion'],\n",
       "       ['2018-10-12 02:52:03.620;128km SE of Kimbe']], dtype=object)"
      ]
     },
     "execution_count": 23,
     "metadata": {},
     "output_type": "execute_result"
    }
   ],
   "source": [
    "df.values"
   ]
  },
  {
   "cell_type": "code",
   "execution_count": 24,
   "id": "3c91c667-c2b7-4618-93a1-733cafc13b8e",
   "metadata": {},
   "outputs": [
    {
     "data": {
      "text/plain": [
       "Index(['timeplacemagTypemagalerttsunami'], dtype='object')"
      ]
     },
     "execution_count": 24,
     "metadata": {},
     "output_type": "execute_result"
    }
   ],
   "source": [
    "df.columns"
   ]
  },
  {
   "cell_type": "code",
   "execution_count": 25,
   "id": "821da340-c94a-472c-9811-b8fa265e2c89",
   "metadata": {},
   "outputs": [
    {
     "data": {
      "text/html": [
       "<div>\n",
       "<style scoped>\n",
       "    .dataframe tbody tr th:only-of-type {\n",
       "        vertical-align: middle;\n",
       "    }\n",
       "\n",
       "    .dataframe tbody tr th {\n",
       "        vertical-align: top;\n",
       "    }\n",
       "\n",
       "    .dataframe thead th {\n",
       "        text-align: right;\n",
       "    }\n",
       "</style>\n",
       "<table border=\"1\" class=\"dataframe\">\n",
       "  <thead>\n",
       "    <tr style=\"text-align: right;\">\n",
       "      <th></th>\n",
       "      <th>timeplacemagTypemagalerttsunami</th>\n",
       "    </tr>\n",
       "  </thead>\n",
       "  <tbody>\n",
       "    <tr>\n",
       "      <th>0</th>\n",
       "      <td>2018-10-13 11:10:23.560;262km NW of Ozernovski...</td>\n",
       "    </tr>\n",
       "    <tr>\n",
       "      <th>1</th>\n",
       "      <td>2018-10-13 04:34:15.580;25km E of Bitung2018-1...</td>\n",
       "    </tr>\n",
       "    <tr>\n",
       "      <th>2</th>\n",
       "      <td>2018-10-13 00:13:46.220;42km WNW of Sola2018-1...</td>\n",
       "    </tr>\n",
       "    <tr>\n",
       "      <th>3</th>\n",
       "      <td>2018-10-12 21:09:49.240;13km E of Nueva Concep...</td>\n",
       "    </tr>\n",
       "    <tr>\n",
       "      <th>4</th>\n",
       "      <td>2018-10-12 02:52:03.620;128km SE of Kimbe2018-...</td>\n",
       "    </tr>\n",
       "  </tbody>\n",
       "</table>\n",
       "</div>"
      ],
      "text/plain": [
       "                     timeplacemagTypemagalerttsunami\n",
       "0  2018-10-13 11:10:23.560;262km NW of Ozernovski...\n",
       "1  2018-10-13 04:34:15.580;25km E of Bitung2018-1...\n",
       "2  2018-10-13 00:13:46.220;42km WNW of Sola2018-1...\n",
       "3  2018-10-12 21:09:49.240;13km E of Nueva Concep...\n",
       "4  2018-10-12 02:52:03.620;128km SE of Kimbe2018-..."
      ]
     },
     "execution_count": 25,
     "metadata": {},
     "output_type": "execute_result"
    }
   ],
   "source": [
    "df + df"
   ]
  }
 ],
 "metadata": {
  "kernelspec": {
   "display_name": "Python 3 (ipykernel)",
   "language": "python",
   "name": "python3"
  },
  "language_info": {
   "codemirror_mode": {
    "name": "ipython",
    "version": 3
   },
   "file_extension": ".py",
   "mimetype": "text/x-python",
   "name": "python",
   "nbconvert_exporter": "python",
   "pygments_lexer": "ipython3",
   "version": "3.10.12"
  }
 },
 "nbformat": 4,
 "nbformat_minor": 5
}
